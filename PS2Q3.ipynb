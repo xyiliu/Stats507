{
 "cells": [
  {
   "cell_type": "markdown",
   "metadata": {},
   "source": [
    "## (a)."
   ]
  },
  {
   "cell_type": "code",
   "execution_count": null,
   "metadata": {},
   "outputs": [],
   "source": [
    "path = '/Users/lxydawn'\n",
    "\n",
    "## I downloaded the file to my computer so I used the path on my end...since I had error\n",
    "## when I wanted to directly add the link from the website\n",
    "df1 = pd.read_sas(\"/Users/lxydawn/Desktop/DEMO_G.XPT\")\n",
    "df1[\"cohort\"] = 1\n",
    "df = df1\n",
    "df2 = pd.read_sas(\"/Users/lxydawn/Desktop/DEMO_H.XPT\")\n",
    "df2[\"cohort\"] = 2\n",
    "df3 = pd.read_sas(\"/Users/lxydawn/Desktop/DEMO_I.XPT\")\n",
    "df3[\"cohort\"] = 3\n",
    "df4 = pd.read_sas(\"/Users/lxydawn/Desktop/DEMO_J.XPT\")\n",
    "df4[\"cohort\"] = 4\n",
    "df = df.append(df2,ignore_index=True)\n",
    "df = df.append(df3,ignore_index=True)\n",
    "df = df.append(df4,ignore_index=True)\n",
    "df = df[['SEQN','RIDAGEYR','RIDRETH3','DMDEDUC2','DMDMARTL',\n",
    "         'RIDSTATR','SDMVPSU','SDMVSTRA','WTMEC2YR','WTINT2YR','cohort']]\n",
    "df.columns = ['unique_ids','age','race_and_ethnicity','education',\n",
    "              'marital_status','examination_status',\n",
    "              'pseudo-psu','pseudo-stratum',\n",
    "              '2_year_mec_exam','2_year_interview','cohort']\n",
    "\n",
    "# replace NA values with -1\n",
    "df = df.fillna(-1)\n",
    "\n",
    "# convert float to int:\n",
    "df['unique_ids'] = df['unique_ids'].astype(\"int\")\n",
    "df['age'] = df['age'].astype(\"int\")\n",
    "df['race_and_ethnicity'] = df['race_and_ethnicity'].astype(\"int\")\n",
    "df['education'] = df['education'].astype(\"int\")\n",
    "df['marital_status'] = df['marital_status'].astype(\"int\")\n",
    "df['examination_status'] = df['examination_status'].astype(\"int\")\n",
    "df['pseudo-psu'] = df['pseudo-psu'].astype(\"int\")\n",
    "df['pseudo-stratum'] = df['pseudo-stratum'].astype(\"int\")\n",
    "\n",
    "# convert some columns into categorical\n",
    "df['unique_ids'] = df.unique_ids.astype('category')\n",
    "df['race_and_ethnicity'] = df.race_and_ethnicity.astype('category')\n",
    "df['education'] = df.education.astype('category') # 1 represests first grade\n",
    "df['marital_status'] = df.marital_status.astype('category')\n",
    "df['examination_status'] = df.examination_status.astype('category')\n",
    "\n",
    "demo_file = path + '/demo.feather'\n",
    "df.to_feather(demo_file)\n"
   ]
  },
  {
   "cell_type": "markdown",
   "metadata": {},
   "source": [
    "## (b)."
   ]
  },
  {
   "cell_type": "code",
   "execution_count": null,
   "metadata": {},
   "outputs": [],
   "source": [
    "df5 = pd.read_sas(\"/Users/lxydawn/Desktop/OHXDEN_G.XPT\")\n",
    "df5[\"cohort\"] = 1\n",
    "df6 = pd.read_sas(\"/Users/lxydawn/Desktop/OHXDEN_H.XPT\")\n",
    "df6[\"cohort\"] = 2\n",
    "df7 = pd.read_sas(\"/Users/lxydawn/Desktop/OHXDEN_I.XPT\")\n",
    "df7[\"cohort\"] = 3\n",
    "df8 = pd.read_sas(\"/Users/lxydawn/Desktop/OHXDEN_J.XPT\")\n",
    "df8[\"cohort\"] = 4\n",
    "df9 = df5\n",
    "\n",
    "df9 = df9.append(df6,ignore_index=True)\n",
    "df9 = df9.append(df7,ignore_index=True)\n",
    "df9 = df9.append(df8,ignore_index=True)\n",
    "\n",
    "## I am not sure if I also need to add cohort number for this dataframe\n",
    "\n",
    "## substract columns\n",
    "df9_first2 = df9.loc[:,'SEQN':'OHDDESTS']\n",
    "df9_OHXxxTC = df9.loc[:,'OHX01TC':'OHX32TC']\n",
    "df9_OHXxxCTC = df9.loc[:,'OHX02CTC':'OHX31CTC']\n",
    "\n",
    "\n",
    "## combine columns\n",
    "frames = [df9_first2, df9_OHXxxTC, df9_OHXxxCTC]\n",
    "df9 = pd.concat(frames,axis=1)\n",
    "\n",
    "# replace NA values with -1\n",
    "df9 = df9.fillna(-1)\n",
    "\n",
    "df9['SEQN'] = df9['SEQN'].astype('int')\n",
    "df9['OHDDESTS'] = df9['OHDDESTS'].astype('int')\n",
    "\n",
    "df9 = df9.rename(columns=str.lower)\n",
    "df9 = df9.loc[:,:].astype('category')\n",
    "\n",
    "df9\n",
    "\n",
    "filehandler2 = open(b\"dataframe2\",\"wb\")\n",
    "pickle.dump(df9,filehandler2)\n",
    "filehandler2.close()"
   ]
  },
  {
   "cell_type": "markdown",
   "metadata": {},
   "source": [
    "## (c)."
   ]
  },
  {
   "cell_type": "code",
   "execution_count": null,
   "metadata": {},
   "outputs": [],
   "source": [
    "print(np.shape(df))\n",
    "print(np.shape(df9))"
   ]
  }
 ],
 "metadata": {
  "kernelspec": {
   "display_name": "Python 3",
   "language": "python",
   "name": "python3"
  },
  "language_info": {
   "codemirror_mode": {
    "name": "ipython",
    "version": 3
   },
   "file_extension": ".py",
   "mimetype": "text/x-python",
   "name": "python",
   "nbconvert_exporter": "python",
   "pygments_lexer": "ipython3",
   "version": "3.8.3"
  }
 },
 "nbformat": 4,
 "nbformat_minor": 4
}
